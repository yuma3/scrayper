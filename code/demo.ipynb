{
 "cells": [
  {
   "cell_type": "code",
   "execution_count": 18,
   "metadata": {},
   "outputs": [],
   "source": [
    "from selenium import webdriver\n",
    "from selenium.webdriver.common.keys import Keys\n",
    "from selenium.webdriver.common.action_chains import ActionChains\n",
    "from selenium.webdriver.chrome.options import Options\n",
    "from selenium.common.exceptions import NoSuchElementException\n",
    "import time"
   ]
  },
  {
   "cell_type": "code",
   "execution_count": 19,
   "metadata": {},
   "outputs": [],
   "source": [
    "options = webdriver.ChromeOptions()\n",
    "driver = webdriver.Remote(\n",
    "    command_executor='172.31.0.3:4444/wd/hub',\n",
    "    options=options,\n",
    ")"
   ]
  },
  {
   "cell_type": "code",
   "execution_count": 20,
   "metadata": {},
   "outputs": [],
   "source": [
    "def getArgenCompLink(home_url):\n",
    "    \"\"\"\n",
    "    this method can get url of league and cup in Argentina.\n",
    "    \n",
    "    home_url -> 'https://www.whoscored.com/'\n",
    "    \n",
    "    \"\"\"\n",
    "    \n",
    "    options = webdriver.ChromeOptions()\n",
    "    driver = webdriver.Remote(\n",
    "        command_executor='172.31.0.3:4444/wd/hub',\n",
    "        options=options,\n",
    "    )\n",
    "    \n",
    "    comp_url_list = []\n",
    "    for i in range(1,10,1):\n",
    "        \n",
    "    #   Home Urlでブラウザを起動\n",
    "        driver.get(home_url)\n",
    "\n",
    "    #   AllをClick（クリックしてからでないと中の要素が取れない模様）\n",
    "        driver.find_element_by_xpath(\n",
    "            '//*[@id=\"tournament-groups\"]/li[3]/a'\n",
    "        ).click()\n",
    "\n",
    "    #   リンクをGet\n",
    "        comp = driver.find_element_by_xpath(\n",
    "            f'//*[@id=\"domestic-regions\"]/div[3]/ul/li[2]/ul/li[{i}]/a'\n",
    "        ).get_attribute('href')\n",
    "        comp_url_list.append(comp)\n",
    "        \n",
    "    return comp_url_list\n",
    "    "
   ]
  },
  {
   "cell_type": "code",
   "execution_count": 4,
   "metadata": {},
   "outputs": [
    {
     "data": {
      "text/plain": [
       "['https://www.whoscored.com/Regions/11/Tournaments/68/Argentina-Superliga',\n",
       " 'https://www.whoscored.com/Regions/11/Tournaments/504/Argentina-Cup',\n",
       " 'https://www.whoscored.com/Regions/11/Tournaments/317/Argentina-Primera-B-Nacional',\n",
       " 'https://www.whoscored.com/Regions/11/Tournaments/489/Argentina-Super-Cup',\n",
       " 'https://www.whoscored.com/Regions/11/Tournaments/541/Argentina-Super-Cup',\n",
       " 'https://www.whoscored.com/Regions/11/Tournaments/697/Argentina-Copa-de-la-Superliga',\n",
       " 'https://www.whoscored.com/Regions/11/Tournaments/605/Argentina-Argentina-4',\n",
       " 'https://www.whoscored.com/Regions/11/Tournaments/463/Argentina-Primera-B-Metropolitana',\n",
       " 'https://www.whoscored.com/Regions/11/Tournaments/450/Argentina-Primera-B-Nacional-Qualification']"
      ]
     },
     "execution_count": 4,
     "metadata": {},
     "output_type": "execute_result"
    }
   ],
   "source": [
    "getArgenCompLink('https://www.whoscored.com/')"
   ]
  },
  {
   "cell_type": "code",
   "execution_count": 21,
   "metadata": {},
   "outputs": [],
   "source": [
    "options = webdriver.ChromeOptions()\n",
    "driver = webdriver.Remote(\n",
    "    command_executor='172.31.0.3:4444/wd/hub',\n",
    "    options=options,\n",
    ")\n",
    "club_list = []\n",
    "driver.get('https://www.whoscored.com/Regions/11/Tournaments/68/Argentina-Superliga')\n",
    "time.sleep(5)\n",
    "for i in range(1,25,1):\n",
    "    driver.find_element_by_xpath(\n",
    "        '//*[@id=\"seasons\"]/option[1]'\n",
    "    ).click()\n",
    "    club = driver.find_element_by_xpath(\n",
    "        f'//*[@id=\"standings-17737-content\"]/tr[{i}]/td[1]/a'\n",
    "    ).text\n",
    "    club_list.append(club)\n"
   ]
  },
  {
   "cell_type": "code",
   "execution_count": 22,
   "metadata": {},
   "outputs": [
    {
     "name": "stdout",
     "output_type": "stream",
     "text": [
      "[<selenium.webdriver.remote.webelement.WebElement (session=\"5b9223780dc563b4b6f0eade16f5e854\", element=\"db124d11-1e72-4060-b50b-92a1ae0050fd\")>, <selenium.webdriver.remote.webelement.WebElement (session=\"5b9223780dc563b4b6f0eade16f5e854\", element=\"56475ce9-e333-42af-b131-6b6f1a597746\")>, <selenium.webdriver.remote.webelement.WebElement (session=\"5b9223780dc563b4b6f0eade16f5e854\", element=\"62b000b3-5484-438b-a3b9-bfa692096bf1\")>, <selenium.webdriver.remote.webelement.WebElement (session=\"5b9223780dc563b4b6f0eade16f5e854\", element=\"e8ef6535-1cba-4520-b92a-ca68e2ed57f8\")>, <selenium.webdriver.remote.webelement.WebElement (session=\"5b9223780dc563b4b6f0eade16f5e854\", element=\"201ae76d-44dd-4b15-b6b2-d0f3364069bb\")>, <selenium.webdriver.remote.webelement.WebElement (session=\"5b9223780dc563b4b6f0eade16f5e854\", element=\"8603d152-db77-470d-9323-3a2622c2a26b\")>]\n"
     ]
    }
   ],
   "source": [
    "time.sleep(5)\n",
    "# open fixtures_pages\n",
    "driver.find_element_by_xpath(\n",
    "    '//*[@id=\"link-fixtures\"]'\n",
    ").click()\n",
    "\n",
    "time.sleep(5)\n",
    "driver.find_element_by_xpath(\n",
    "    '//*[@id=\"date-config-toggle-button\"]'\n",
    ").click()\n",
    "\n",
    "time.sleep(5)\n",
    "first_year = driver.find_element_by_xpath(\n",
    "    '//*[@id=\"date-config\"]/div[1]/div/table/tbody/tr/td[1]/div/table/tbody/tr[1]/td'\n",
    ").click()\n",
    "\n",
    "time.sleep(5)\n",
    "selectable_months = driver.find_element_by_xpath(\n",
    "#     '//*[@id=\"date-config\"]/div[1]/div/table/tbody/tr/td[2]/div/table/tbody/tr[2]/td[4]'\n",
    "    '//*[@id=\"date-config\"]/div[1]/div/table/tbody/tr/td[2]/div/table/tbody'\n",
    ").find_elements_by_class_name(\"selectable\")\n",
    "print(selectable_months)\n",
    "time.sleep(5)\n",
    "months_num = len(selectable_months)\n",
    "\n",
    "time.sleep(5)\n",
    "second_year = driver.find_element_by_xpath(\n",
    "    '//*[@id=\"date-config\"]/div[1]/div/table/tbody/tr/td[1]/div/table/tbody/tr[2]/td'\n",
    ").click()\n",
    "\n",
    "time.sleep(5)\n",
    "selectable_months = driver.find_element_by_xpath(\n",
    "#     '//*[@id=\"date-config\"]/div[1]/div/table/tbody/tr/td[2]/div/table/tbody/tr[1]/td[3]'\n",
    "    '//*[@id=\"date-config\"]/div[1]/div/table/tbody'\n",
    ").find_elements_by_class_name(\"selectable\")\n",
    "time.sleep(5)\n",
    "months_num += len(selectable_months)\n",
    "\n",
    "\n",
    "\n"
   ]
  },
  {
   "cell_type": "code",
   "execution_count": 25,
   "metadata": {},
   "outputs": [
    {
     "data": {
      "text/plain": [
       "11"
      ]
     },
     "execution_count": 25,
     "metadata": {},
     "output_type": "execute_result"
    }
   ],
   "source": [
    "months_num"
   ]
  },
  {
   "cell_type": "code",
   "execution_count": 23,
   "metadata": {},
   "outputs": [
    {
     "data": {
      "text/plain": [
       "['Boca Juniors',\n",
       " 'River Plate',\n",
       " 'Velez Sarsfield',\n",
       " 'Racing Club',\n",
       " 'Argentinos Juniors',\n",
       " 'Defensa y Justicia',\n",
       " 'Lanus',\n",
       " 'San Lorenzo',\n",
       " 'Rosario Central',\n",
       " \"Newell's Old Boys\",\n",
       " 'Arsenal Sarandi',\n",
       " 'Talleres',\n",
       " 'Estudiantes',\n",
       " 'Independiente',\n",
       " 'Atletico Tucuman',\n",
       " 'Union',\n",
       " 'Banfield',\n",
       " 'Central Cordoba de Santiago',\n",
       " 'Gimnasia LP',\n",
       " 'Patronato de Parana',\n",
       " 'Huracan',\n",
       " 'Aldosivi',\n",
       " 'Colon',\n",
       " 'Godoy Cruz']"
      ]
     },
     "execution_count": 23,
     "metadata": {},
     "output_type": "execute_result"
    }
   ],
   "source": [
    "club_list"
   ]
  },
  {
   "cell_type": "code",
   "execution_count": null,
   "metadata": {},
   "outputs": [],
   "source": []
  }
 ],
 "metadata": {
  "kernelspec": {
   "display_name": "Python 3",
   "language": "python",
   "name": "python3"
  },
  "language_info": {
   "codemirror_mode": {
    "name": "ipython",
    "version": 3
   },
   "file_extension": ".py",
   "mimetype": "text/x-python",
   "name": "python",
   "nbconvert_exporter": "python",
   "pygments_lexer": "ipython3",
   "version": "3.8.3"
  }
 },
 "nbformat": 4,
 "nbformat_minor": 4
}
